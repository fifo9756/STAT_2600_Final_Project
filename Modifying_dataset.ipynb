{
  "nbformat": 4,
  "nbformat_minor": 0,
  "metadata": {
    "colab": {
      "name": "Untitled37.ipynb",
      "provenance": []
    },
    "kernelspec": {
      "name": "ir",
      "display_name": "R"
    }
  },
  "cells": [
    {
      "cell_type": "markdown",
      "metadata": {
        "id": "Hm1ngbkHLZ_K"
      },
      "source": [
        "<h1>Modifying Dataset</h1>\n",
        "<p>I will take the original dataset and filter it, we are only interested in the following countries: France, Germany, Sweden, Italy, Czechia.</p>\n",
        "<p>Furthermore, only following variables are useful for this project: date, new cases on that date, deaths on that date, country, population in the country, cumulative 14 day cases per 100 000 inhabitants in the given country. We do not the date twice, do not need country regions, country codes and continent variables.</p>\n",
        "<p>After updating the dataset and checking for missing values, I will save it as a new updated_dataset.csv file, which I will use further in the project.</p>\n"
      ]
    },
    {
      "cell_type": "code",
      "metadata": {
        "colab": {
          "base_uri": "https://localhost:8080/"
        },
        "id": "Gupb8EG4wP7w",
        "outputId": "3dae0f72-665a-42c2-d6ea-3fcc4a580be3"
      },
      "source": [
        "library(tidyverse)"
      ],
      "execution_count": 1,
      "outputs": [
        {
          "output_type": "stream",
          "text": [
            "── \u001b[1mAttaching packages\u001b[22m ─────────────────────────────────────── tidyverse 1.3.0 ──\n",
            "\n",
            "\u001b[32m✔\u001b[39m \u001b[34mggplot2\u001b[39m 3.3.2     \u001b[32m✔\u001b[39m \u001b[34mpurrr  \u001b[39m 0.3.4\n",
            "\u001b[32m✔\u001b[39m \u001b[34mtibble \u001b[39m 3.0.4     \u001b[32m✔\u001b[39m \u001b[34mdplyr  \u001b[39m 1.0.2\n",
            "\u001b[32m✔\u001b[39m \u001b[34mtidyr  \u001b[39m 1.1.2     \u001b[32m✔\u001b[39m \u001b[34mstringr\u001b[39m 1.4.0\n",
            "\u001b[32m✔\u001b[39m \u001b[34mreadr  \u001b[39m 1.4.0     \u001b[32m✔\u001b[39m \u001b[34mforcats\u001b[39m 0.5.0\n",
            "\n",
            "── \u001b[1mConflicts\u001b[22m ────────────────────────────────────────── tidyverse_conflicts() ──\n",
            "\u001b[31m✖\u001b[39m \u001b[34mdplyr\u001b[39m::\u001b[32mfilter()\u001b[39m masks \u001b[34mstats\u001b[39m::filter()\n",
            "\u001b[31m✖\u001b[39m \u001b[34mdplyr\u001b[39m::\u001b[32mlag()\u001b[39m    masks \u001b[34mstats\u001b[39m::lag()\n",
            "\n"
          ],
          "name": "stderr"
        }
      ]
    },
    {
      "cell_type": "code",
      "metadata": {
        "colab": {
          "base_uri": "https://localhost:8080/",
          "height": 319
        },
        "id": "llBkH9SGwe41",
        "outputId": "cbd87ee8-104f-471b-8f25-e8277e42ec57"
      },
      "source": [
        "mydata <- read.csv(\"covid-19_dataset.csv\")\n",
        "print(as.tibble(mydata))\n",
        "colnames(mydata)"
      ],
      "execution_count": 43,
      "outputs": [
        {
          "output_type": "stream",
          "text": [
            "\u001b[90m# A tibble: 60,409 x 12\u001b[39m\n",
            "   dateRep   day month  year cases deaths country geoId countryterritor…\n",
            "   \u001b[3m\u001b[90m<chr>\u001b[39m\u001b[23m   \u001b[3m\u001b[90m<int>\u001b[39m\u001b[23m \u001b[3m\u001b[90m<int>\u001b[39m\u001b[23m \u001b[3m\u001b[90m<int>\u001b[39m\u001b[23m \u001b[3m\u001b[90m<int>\u001b[39m\u001b[23m  \u001b[3m\u001b[90m<int>\u001b[39m\u001b[23m \u001b[3m\u001b[90m<chr>\u001b[39m\u001b[23m   \u001b[3m\u001b[90m<chr>\u001b[39m\u001b[23m \u001b[3m\u001b[90m<chr>\u001b[39m\u001b[23m           \n",
            "\u001b[90m 1\u001b[39m 7/12/2…     7    12  \u001b[4m2\u001b[24m020   210     26 Afghan… AF    AFG             \n",
            "\u001b[90m 2\u001b[39m 6/12/2…     6    12  \u001b[4m2\u001b[24m020   234     10 Afghan… AF    AFG             \n",
            "\u001b[90m 3\u001b[39m 5/12/2…     5    12  \u001b[4m2\u001b[24m020   235     18 Afghan… AF    AFG             \n",
            "\u001b[90m 4\u001b[39m 4/12/2…     4    12  \u001b[4m2\u001b[24m020   119      5 Afghan… AF    AFG             \n",
            "\u001b[90m 5\u001b[39m 3/12/2…     3    12  \u001b[4m2\u001b[24m020   202     19 Afghan… AF    AFG             \n",
            "\u001b[90m 6\u001b[39m 2/12/2…     2    12  \u001b[4m2\u001b[24m020   400     48 Afghan… AF    AFG             \n",
            "\u001b[90m 7\u001b[39m 1/12/2…     1    12  \u001b[4m2\u001b[24m020   272     11 Afghan… AF    AFG             \n",
            "\u001b[90m 8\u001b[39m 30/11/…    30    11  \u001b[4m2\u001b[24m020     0      0 Afghan… AF    AFG             \n",
            "\u001b[90m 9\u001b[39m 29/11/…    29    11  \u001b[4m2\u001b[24m020   228     11 Afghan… AF    AFG             \n",
            "\u001b[90m10\u001b[39m 28/11/…    28    11  \u001b[4m2\u001b[24m020   214     15 Afghan… AF    AFG             \n",
            "\u001b[90m# … with 60,399 more rows, and 3 more variables: popData2019 \u001b[3m\u001b[90m<int>\u001b[90m\u001b[23m,\u001b[39m\n",
            "\u001b[90m#   continentExp \u001b[3m\u001b[90m<chr>\u001b[90m\u001b[23m,\u001b[39m\n",
            "\u001b[90m#   Cumulative_number_for_14_days_of_COVID.19_cases_per_100000 \u001b[3m\u001b[90m<dbl>\u001b[90m\u001b[23m\u001b[39m\n"
          ],
          "name": "stdout"
        },
        {
          "output_type": "display_data",
          "data": {
            "text/plain": [
              " [1] \"dateRep\"                                                   \n",
              " [2] \"day\"                                                       \n",
              " [3] \"month\"                                                     \n",
              " [4] \"year\"                                                      \n",
              " [5] \"cases\"                                                     \n",
              " [6] \"deaths\"                                                    \n",
              " [7] \"country\"                                                   \n",
              " [8] \"geoId\"                                                     \n",
              " [9] \"countryterritoryCode\"                                      \n",
              "[10] \"popData2019\"                                               \n",
              "[11] \"continentExp\"                                              \n",
              "[12] \"Cumulative_number_for_14_days_of_COVID.19_cases_per_100000\""
            ],
            "text/latex": "\\begin{enumerate*}\n\\item 'dateRep'\n\\item 'day'\n\\item 'month'\n\\item 'year'\n\\item 'cases'\n\\item 'deaths'\n\\item 'country'\n\\item 'geoId'\n\\item 'countryterritoryCode'\n\\item 'popData2019'\n\\item 'continentExp'\n\\item 'Cumulative\\_number\\_for\\_14\\_days\\_of\\_COVID.19\\_cases\\_per\\_100000'\n\\end{enumerate*}\n",
            "text/markdown": "1. 'dateRep'\n2. 'day'\n3. 'month'\n4. 'year'\n5. 'cases'\n6. 'deaths'\n7. 'country'\n8. 'geoId'\n9. 'countryterritoryCode'\n10. 'popData2019'\n11. 'continentExp'\n12. 'Cumulative_number_for_14_days_of_COVID.19_cases_per_100000'\n\n\n",
            "text/html": [
              "<style>\n",
              ".list-inline {list-style: none; margin:0; padding: 0}\n",
              ".list-inline>li {display: inline-block}\n",
              ".list-inline>li:not(:last-child)::after {content: \"\\00b7\"; padding: 0 .5ex}\n",
              "</style>\n",
              "<ol class=list-inline><li>'dateRep'</li><li>'day'</li><li>'month'</li><li>'year'</li><li>'cases'</li><li>'deaths'</li><li>'country'</li><li>'geoId'</li><li>'countryterritoryCode'</li><li>'popData2019'</li><li>'continentExp'</li><li>'Cumulative_number_for_14_days_of_COVID.19_cases_per_100000'</li></ol>\n"
            ]
          },
          "metadata": {
            "tags": []
          }
        }
      ]
    },
    {
      "cell_type": "code",
      "metadata": {
        "id": "FhUEawmYwyVw"
      },
      "source": [
        "mydata <- mydata %>% rename(\n",
        "    cumulative_14d_cases = Cumulative_number_for_14_days_of_COVID.19_cases_per_100000\n",
        "    )"
      ],
      "execution_count": 44,
      "outputs": []
    },
    {
      "cell_type": "code",
      "metadata": {
        "id": "Vbc5VYCIzb0s"
      },
      "source": [
        "# filter columns we are interested in\n",
        "mydata <- data %>% select(1, 5, 6, 7, 10, 12)"
      ],
      "execution_count": 49,
      "outputs": []
    },
    {
      "cell_type": "code",
      "metadata": {
        "colab": {
          "base_uri": "https://localhost:8080/",
          "height": 1000
        },
        "id": "ISjErIu10wCK",
        "outputId": "48b65ceb-2ce9-4957-a0e4-42d3ddd520f8"
      },
      "source": [
        "# filter rows (save rows with countries we are interested in)\n",
        "newdata <- subset(mydata , country == \"Germany\" | country == \"France\" \n",
        "                 | country == \"Italy\" | country == \"Sweden\" \n",
        "                 | country == \"Czechia\")\n",
        "newdata"
      ],
      "execution_count": 63,
      "outputs": [
        {
          "output_type": "display_data",
          "data": {
            "text/plain": [
              "      dateRep    cases deaths country popData2019 cumulative_14d_cases\n",
              "14596 7/12/2020  2654   87    Czechia 10649800     512.4040           \n",
              "14597 6/12/2020  1773   77    Czechia 10649800     501.6902           \n",
              "14598 5/12/2020  4743   97    Czechia 10649800     514.9674           \n",
              "14599 4/12/2020  4621  126    Czechia 10649800     524.9676           \n",
              "14600 3/12/2020  4568  108    Czechia 10649800     542.3388           \n",
              "14601 2/12/2020  5176  112    Czechia 10649800     551.2310           \n",
              "14602 1/12/2020  3575  157    Czechia 10649800     542.4985           \n",
              "14603 30/11/2020 1074   84    Czechia 10649800     559.7007           \n",
              "14604 29/11/2020 2665   87    Czechia 10649800     567.3346           \n",
              "14605 28/11/2020 4464  188    Czechia 10649800     581.7386           \n",
              "14606 27/11/2020 6305  168    Czechia 10649800     608.8847           \n",
              "14607 26/11/2020 2681  112    Czechia 10649800     623.5798           \n",
              "14608 25/11/2020 5896  139    Czechia 10649800     682.2100           \n",
              "14609 24/11/2020 4375  164    Czechia 10649800     711.4030           \n",
              "14610 23/11/2020 1513  101    Czechia 10649800     727.1029           \n",
              "14611 22/11/2020 3187   74    Czechia 10649800     746.7746           \n",
              "14612 21/11/2020 5808  147    Czechia 10649800     789.3669           \n",
              "14613 20/11/2020 6471  134    Czechia 10649800     843.3022           \n",
              "14614 19/11/2020 5515  182    Czechia 10649800     906.7588           \n",
              "14615 18/11/2020 4246  142    Czechia 10649800    1002.6855           \n",
              "14616 17/11/2020 5407  208    Czechia 10649800    1076.3301           \n",
              "14617 16/11/2020 1887  150    Czechia 10649800    1112.4340           \n",
              "14618 15/11/2020 4199  132    Czechia 10649800    1156.1438           \n",
              "14619 14/11/2020 7355  171    Czechia 10649800    1224.0324           \n",
              "14620 13/11/2020 7870  185    Czechia 10649800    1282.7189           \n",
              "14621 12/11/2020 8925  247    Czechia 10649800    1331.4053           \n",
              "14622 11/11/2020 9005  249    Czechia 10649800    1369.4811           \n",
              "14623 10/11/2020 6047  216    Czechia 10649800    1431.9987           \n",
              "14624 9/11/2020  3608  177    Czechia 10649800    1471.6802           \n",
              "14625 8/11/2020  7723  155    Czechia 10649800    1506.3475           \n",
              "⋮     ⋮          ⋮     ⋮      ⋮       ⋮           ⋮                   \n",
              "52985 29/01/2020 0     0      Sweden  10230185     0                  \n",
              "52986 28/01/2020 0     0      Sweden  10230185     0                  \n",
              "52987 27/01/2020 0     0      Sweden  10230185     0                  \n",
              "52988 26/01/2020 0     0      Sweden  10230185     0                  \n",
              "52989 25/01/2020 0     0      Sweden  10230185     0                  \n",
              "52990 24/01/2020 0     0      Sweden  10230185     0                  \n",
              "52991 23/01/2020 0     0      Sweden  10230185     0                  \n",
              "52992 22/01/2020 0     0      Sweden  10230185     0                  \n",
              "52993 21/01/2020 0     0      Sweden  10230185     0                  \n",
              "52994 20/01/2020 0     0      Sweden  10230185     0                  \n",
              "52995 19/01/2020 0     0      Sweden  10230185     0                  \n",
              "52996 18/01/2020 0     0      Sweden  10230185     0                  \n",
              "52997 17/01/2020 0     0      Sweden  10230185     0                  \n",
              "52998 16/01/2020 0     0      Sweden  10230185     0                  \n",
              "52999 15/01/2020 0     0      Sweden  10230185     0                  \n",
              "53000 14/01/2020 0     0      Sweden  10230185     0                  \n",
              "53001 13/01/2020 0     0      Sweden  10230185     0                  \n",
              "53002 12/1/2020  0     0      Sweden  10230185    NA                  \n",
              "53003 11/1/2020  0     0      Sweden  10230185    NA                  \n",
              "53004 10/1/2020  0     0      Sweden  10230185    NA                  \n",
              "53005 9/1/2020   0     0      Sweden  10230185    NA                  \n",
              "53006 8/1/2020   0     0      Sweden  10230185    NA                  \n",
              "53007 7/1/2020   0     0      Sweden  10230185    NA                  \n",
              "53008 6/1/2020   0     0      Sweden  10230185    NA                  \n",
              "53009 5/1/2020   0     0      Sweden  10230185    NA                  \n",
              "53010 4/1/2020   0     0      Sweden  10230185    NA                  \n",
              "53011 3/1/2020   0     0      Sweden  10230185    NA                  \n",
              "53012 2/1/2020   0     0      Sweden  10230185    NA                  \n",
              "53013 1/1/2020   0     0      Sweden  10230185    NA                  \n",
              "53014 31/12/2019 0     0      Sweden  10230185    NA                  "
            ],
            "text/latex": "A data.frame: 1715 × 6\n\\begin{tabular}{r|llllll}\n  & dateRep & cases & deaths & country & popData2019 & cumulative\\_14d\\_cases\\\\\n  & <chr> & <int> & <int> & <chr> & <int> & <dbl>\\\\\n\\hline\n\t14596 & 7/12/2020  & 2654 &  87 & Czechia & 10649800 &  512.4040\\\\\n\t14597 & 6/12/2020  & 1773 &  77 & Czechia & 10649800 &  501.6902\\\\\n\t14598 & 5/12/2020  & 4743 &  97 & Czechia & 10649800 &  514.9674\\\\\n\t14599 & 4/12/2020  & 4621 & 126 & Czechia & 10649800 &  524.9676\\\\\n\t14600 & 3/12/2020  & 4568 & 108 & Czechia & 10649800 &  542.3388\\\\\n\t14601 & 2/12/2020  & 5176 & 112 & Czechia & 10649800 &  551.2310\\\\\n\t14602 & 1/12/2020  & 3575 & 157 & Czechia & 10649800 &  542.4985\\\\\n\t14603 & 30/11/2020 & 1074 &  84 & Czechia & 10649800 &  559.7007\\\\\n\t14604 & 29/11/2020 & 2665 &  87 & Czechia & 10649800 &  567.3346\\\\\n\t14605 & 28/11/2020 & 4464 & 188 & Czechia & 10649800 &  581.7386\\\\\n\t14606 & 27/11/2020 & 6305 & 168 & Czechia & 10649800 &  608.8847\\\\\n\t14607 & 26/11/2020 & 2681 & 112 & Czechia & 10649800 &  623.5798\\\\\n\t14608 & 25/11/2020 & 5896 & 139 & Czechia & 10649800 &  682.2100\\\\\n\t14609 & 24/11/2020 & 4375 & 164 & Czechia & 10649800 &  711.4030\\\\\n\t14610 & 23/11/2020 & 1513 & 101 & Czechia & 10649800 &  727.1029\\\\\n\t14611 & 22/11/2020 & 3187 &  74 & Czechia & 10649800 &  746.7746\\\\\n\t14612 & 21/11/2020 & 5808 & 147 & Czechia & 10649800 &  789.3669\\\\\n\t14613 & 20/11/2020 & 6471 & 134 & Czechia & 10649800 &  843.3022\\\\\n\t14614 & 19/11/2020 & 5515 & 182 & Czechia & 10649800 &  906.7588\\\\\n\t14615 & 18/11/2020 & 4246 & 142 & Czechia & 10649800 & 1002.6855\\\\\n\t14616 & 17/11/2020 & 5407 & 208 & Czechia & 10649800 & 1076.3301\\\\\n\t14617 & 16/11/2020 & 1887 & 150 & Czechia & 10649800 & 1112.4340\\\\\n\t14618 & 15/11/2020 & 4199 & 132 & Czechia & 10649800 & 1156.1438\\\\\n\t14619 & 14/11/2020 & 7355 & 171 & Czechia & 10649800 & 1224.0324\\\\\n\t14620 & 13/11/2020 & 7870 & 185 & Czechia & 10649800 & 1282.7189\\\\\n\t14621 & 12/11/2020 & 8925 & 247 & Czechia & 10649800 & 1331.4053\\\\\n\t14622 & 11/11/2020 & 9005 & 249 & Czechia & 10649800 & 1369.4811\\\\\n\t14623 & 10/11/2020 & 6047 & 216 & Czechia & 10649800 & 1431.9987\\\\\n\t14624 & 9/11/2020  & 3608 & 177 & Czechia & 10649800 & 1471.6802\\\\\n\t14625 & 8/11/2020  & 7723 & 155 & Czechia & 10649800 & 1506.3475\\\\\n\t⋮ & ⋮ & ⋮ & ⋮ & ⋮ & ⋮ & ⋮\\\\\n\t52985 & 29/01/2020 & 0 & 0 & Sweden & 10230185 &  0\\\\\n\t52986 & 28/01/2020 & 0 & 0 & Sweden & 10230185 &  0\\\\\n\t52987 & 27/01/2020 & 0 & 0 & Sweden & 10230185 &  0\\\\\n\t52988 & 26/01/2020 & 0 & 0 & Sweden & 10230185 &  0\\\\\n\t52989 & 25/01/2020 & 0 & 0 & Sweden & 10230185 &  0\\\\\n\t52990 & 24/01/2020 & 0 & 0 & Sweden & 10230185 &  0\\\\\n\t52991 & 23/01/2020 & 0 & 0 & Sweden & 10230185 &  0\\\\\n\t52992 & 22/01/2020 & 0 & 0 & Sweden & 10230185 &  0\\\\\n\t52993 & 21/01/2020 & 0 & 0 & Sweden & 10230185 &  0\\\\\n\t52994 & 20/01/2020 & 0 & 0 & Sweden & 10230185 &  0\\\\\n\t52995 & 19/01/2020 & 0 & 0 & Sweden & 10230185 &  0\\\\\n\t52996 & 18/01/2020 & 0 & 0 & Sweden & 10230185 &  0\\\\\n\t52997 & 17/01/2020 & 0 & 0 & Sweden & 10230185 &  0\\\\\n\t52998 & 16/01/2020 & 0 & 0 & Sweden & 10230185 &  0\\\\\n\t52999 & 15/01/2020 & 0 & 0 & Sweden & 10230185 &  0\\\\\n\t53000 & 14/01/2020 & 0 & 0 & Sweden & 10230185 &  0\\\\\n\t53001 & 13/01/2020 & 0 & 0 & Sweden & 10230185 &  0\\\\\n\t53002 & 12/1/2020  & 0 & 0 & Sweden & 10230185 & NA\\\\\n\t53003 & 11/1/2020  & 0 & 0 & Sweden & 10230185 & NA\\\\\n\t53004 & 10/1/2020  & 0 & 0 & Sweden & 10230185 & NA\\\\\n\t53005 & 9/1/2020   & 0 & 0 & Sweden & 10230185 & NA\\\\\n\t53006 & 8/1/2020   & 0 & 0 & Sweden & 10230185 & NA\\\\\n\t53007 & 7/1/2020   & 0 & 0 & Sweden & 10230185 & NA\\\\\n\t53008 & 6/1/2020   & 0 & 0 & Sweden & 10230185 & NA\\\\\n\t53009 & 5/1/2020   & 0 & 0 & Sweden & 10230185 & NA\\\\\n\t53010 & 4/1/2020   & 0 & 0 & Sweden & 10230185 & NA\\\\\n\t53011 & 3/1/2020   & 0 & 0 & Sweden & 10230185 & NA\\\\\n\t53012 & 2/1/2020   & 0 & 0 & Sweden & 10230185 & NA\\\\\n\t53013 & 1/1/2020   & 0 & 0 & Sweden & 10230185 & NA\\\\\n\t53014 & 31/12/2019 & 0 & 0 & Sweden & 10230185 & NA\\\\\n\\end{tabular}\n",
            "text/markdown": "\nA data.frame: 1715 × 6\n\n| <!--/--> | dateRep &lt;chr&gt; | cases &lt;int&gt; | deaths &lt;int&gt; | country &lt;chr&gt; | popData2019 &lt;int&gt; | cumulative_14d_cases &lt;dbl&gt; |\n|---|---|---|---|---|---|---|\n| 14596 | 7/12/2020  | 2654 |  87 | Czechia | 10649800 |  512.4040 |\n| 14597 | 6/12/2020  | 1773 |  77 | Czechia | 10649800 |  501.6902 |\n| 14598 | 5/12/2020  | 4743 |  97 | Czechia | 10649800 |  514.9674 |\n| 14599 | 4/12/2020  | 4621 | 126 | Czechia | 10649800 |  524.9676 |\n| 14600 | 3/12/2020  | 4568 | 108 | Czechia | 10649800 |  542.3388 |\n| 14601 | 2/12/2020  | 5176 | 112 | Czechia | 10649800 |  551.2310 |\n| 14602 | 1/12/2020  | 3575 | 157 | Czechia | 10649800 |  542.4985 |\n| 14603 | 30/11/2020 | 1074 |  84 | Czechia | 10649800 |  559.7007 |\n| 14604 | 29/11/2020 | 2665 |  87 | Czechia | 10649800 |  567.3346 |\n| 14605 | 28/11/2020 | 4464 | 188 | Czechia | 10649800 |  581.7386 |\n| 14606 | 27/11/2020 | 6305 | 168 | Czechia | 10649800 |  608.8847 |\n| 14607 | 26/11/2020 | 2681 | 112 | Czechia | 10649800 |  623.5798 |\n| 14608 | 25/11/2020 | 5896 | 139 | Czechia | 10649800 |  682.2100 |\n| 14609 | 24/11/2020 | 4375 | 164 | Czechia | 10649800 |  711.4030 |\n| 14610 | 23/11/2020 | 1513 | 101 | Czechia | 10649800 |  727.1029 |\n| 14611 | 22/11/2020 | 3187 |  74 | Czechia | 10649800 |  746.7746 |\n| 14612 | 21/11/2020 | 5808 | 147 | Czechia | 10649800 |  789.3669 |\n| 14613 | 20/11/2020 | 6471 | 134 | Czechia | 10649800 |  843.3022 |\n| 14614 | 19/11/2020 | 5515 | 182 | Czechia | 10649800 |  906.7588 |\n| 14615 | 18/11/2020 | 4246 | 142 | Czechia | 10649800 | 1002.6855 |\n| 14616 | 17/11/2020 | 5407 | 208 | Czechia | 10649800 | 1076.3301 |\n| 14617 | 16/11/2020 | 1887 | 150 | Czechia | 10649800 | 1112.4340 |\n| 14618 | 15/11/2020 | 4199 | 132 | Czechia | 10649800 | 1156.1438 |\n| 14619 | 14/11/2020 | 7355 | 171 | Czechia | 10649800 | 1224.0324 |\n| 14620 | 13/11/2020 | 7870 | 185 | Czechia | 10649800 | 1282.7189 |\n| 14621 | 12/11/2020 | 8925 | 247 | Czechia | 10649800 | 1331.4053 |\n| 14622 | 11/11/2020 | 9005 | 249 | Czechia | 10649800 | 1369.4811 |\n| 14623 | 10/11/2020 | 6047 | 216 | Czechia | 10649800 | 1431.9987 |\n| 14624 | 9/11/2020  | 3608 | 177 | Czechia | 10649800 | 1471.6802 |\n| 14625 | 8/11/2020  | 7723 | 155 | Czechia | 10649800 | 1506.3475 |\n| ⋮ | ⋮ | ⋮ | ⋮ | ⋮ | ⋮ | ⋮ |\n| 52985 | 29/01/2020 | 0 | 0 | Sweden | 10230185 |  0 |\n| 52986 | 28/01/2020 | 0 | 0 | Sweden | 10230185 |  0 |\n| 52987 | 27/01/2020 | 0 | 0 | Sweden | 10230185 |  0 |\n| 52988 | 26/01/2020 | 0 | 0 | Sweden | 10230185 |  0 |\n| 52989 | 25/01/2020 | 0 | 0 | Sweden | 10230185 |  0 |\n| 52990 | 24/01/2020 | 0 | 0 | Sweden | 10230185 |  0 |\n| 52991 | 23/01/2020 | 0 | 0 | Sweden | 10230185 |  0 |\n| 52992 | 22/01/2020 | 0 | 0 | Sweden | 10230185 |  0 |\n| 52993 | 21/01/2020 | 0 | 0 | Sweden | 10230185 |  0 |\n| 52994 | 20/01/2020 | 0 | 0 | Sweden | 10230185 |  0 |\n| 52995 | 19/01/2020 | 0 | 0 | Sweden | 10230185 |  0 |\n| 52996 | 18/01/2020 | 0 | 0 | Sweden | 10230185 |  0 |\n| 52997 | 17/01/2020 | 0 | 0 | Sweden | 10230185 |  0 |\n| 52998 | 16/01/2020 | 0 | 0 | Sweden | 10230185 |  0 |\n| 52999 | 15/01/2020 | 0 | 0 | Sweden | 10230185 |  0 |\n| 53000 | 14/01/2020 | 0 | 0 | Sweden | 10230185 |  0 |\n| 53001 | 13/01/2020 | 0 | 0 | Sweden | 10230185 |  0 |\n| 53002 | 12/1/2020  | 0 | 0 | Sweden | 10230185 | NA |\n| 53003 | 11/1/2020  | 0 | 0 | Sweden | 10230185 | NA |\n| 53004 | 10/1/2020  | 0 | 0 | Sweden | 10230185 | NA |\n| 53005 | 9/1/2020   | 0 | 0 | Sweden | 10230185 | NA |\n| 53006 | 8/1/2020   | 0 | 0 | Sweden | 10230185 | NA |\n| 53007 | 7/1/2020   | 0 | 0 | Sweden | 10230185 | NA |\n| 53008 | 6/1/2020   | 0 | 0 | Sweden | 10230185 | NA |\n| 53009 | 5/1/2020   | 0 | 0 | Sweden | 10230185 | NA |\n| 53010 | 4/1/2020   | 0 | 0 | Sweden | 10230185 | NA |\n| 53011 | 3/1/2020   | 0 | 0 | Sweden | 10230185 | NA |\n| 53012 | 2/1/2020   | 0 | 0 | Sweden | 10230185 | NA |\n| 53013 | 1/1/2020   | 0 | 0 | Sweden | 10230185 | NA |\n| 53014 | 31/12/2019 | 0 | 0 | Sweden | 10230185 | NA |\n\n",
            "text/html": [
              "<table>\n",
              "<caption>A data.frame: 1715 × 6</caption>\n",
              "<thead>\n",
              "\t<tr><th></th><th scope=col>dateRep</th><th scope=col>cases</th><th scope=col>deaths</th><th scope=col>country</th><th scope=col>popData2019</th><th scope=col>cumulative_14d_cases</th></tr>\n",
              "\t<tr><th></th><th scope=col>&lt;chr&gt;</th><th scope=col>&lt;int&gt;</th><th scope=col>&lt;int&gt;</th><th scope=col>&lt;chr&gt;</th><th scope=col>&lt;int&gt;</th><th scope=col>&lt;dbl&gt;</th></tr>\n",
              "</thead>\n",
              "<tbody>\n",
              "\t<tr><th scope=row>14596</th><td>7/12/2020 </td><td>2654</td><td> 87</td><td>Czechia</td><td>10649800</td><td> 512.4040</td></tr>\n",
              "\t<tr><th scope=row>14597</th><td>6/12/2020 </td><td>1773</td><td> 77</td><td>Czechia</td><td>10649800</td><td> 501.6902</td></tr>\n",
              "\t<tr><th scope=row>14598</th><td>5/12/2020 </td><td>4743</td><td> 97</td><td>Czechia</td><td>10649800</td><td> 514.9674</td></tr>\n",
              "\t<tr><th scope=row>14599</th><td>4/12/2020 </td><td>4621</td><td>126</td><td>Czechia</td><td>10649800</td><td> 524.9676</td></tr>\n",
              "\t<tr><th scope=row>14600</th><td>3/12/2020 </td><td>4568</td><td>108</td><td>Czechia</td><td>10649800</td><td> 542.3388</td></tr>\n",
              "\t<tr><th scope=row>14601</th><td>2/12/2020 </td><td>5176</td><td>112</td><td>Czechia</td><td>10649800</td><td> 551.2310</td></tr>\n",
              "\t<tr><th scope=row>14602</th><td>1/12/2020 </td><td>3575</td><td>157</td><td>Czechia</td><td>10649800</td><td> 542.4985</td></tr>\n",
              "\t<tr><th scope=row>14603</th><td>30/11/2020</td><td>1074</td><td> 84</td><td>Czechia</td><td>10649800</td><td> 559.7007</td></tr>\n",
              "\t<tr><th scope=row>14604</th><td>29/11/2020</td><td>2665</td><td> 87</td><td>Czechia</td><td>10649800</td><td> 567.3346</td></tr>\n",
              "\t<tr><th scope=row>14605</th><td>28/11/2020</td><td>4464</td><td>188</td><td>Czechia</td><td>10649800</td><td> 581.7386</td></tr>\n",
              "\t<tr><th scope=row>14606</th><td>27/11/2020</td><td>6305</td><td>168</td><td>Czechia</td><td>10649800</td><td> 608.8847</td></tr>\n",
              "\t<tr><th scope=row>14607</th><td>26/11/2020</td><td>2681</td><td>112</td><td>Czechia</td><td>10649800</td><td> 623.5798</td></tr>\n",
              "\t<tr><th scope=row>14608</th><td>25/11/2020</td><td>5896</td><td>139</td><td>Czechia</td><td>10649800</td><td> 682.2100</td></tr>\n",
              "\t<tr><th scope=row>14609</th><td>24/11/2020</td><td>4375</td><td>164</td><td>Czechia</td><td>10649800</td><td> 711.4030</td></tr>\n",
              "\t<tr><th scope=row>14610</th><td>23/11/2020</td><td>1513</td><td>101</td><td>Czechia</td><td>10649800</td><td> 727.1029</td></tr>\n",
              "\t<tr><th scope=row>14611</th><td>22/11/2020</td><td>3187</td><td> 74</td><td>Czechia</td><td>10649800</td><td> 746.7746</td></tr>\n",
              "\t<tr><th scope=row>14612</th><td>21/11/2020</td><td>5808</td><td>147</td><td>Czechia</td><td>10649800</td><td> 789.3669</td></tr>\n",
              "\t<tr><th scope=row>14613</th><td>20/11/2020</td><td>6471</td><td>134</td><td>Czechia</td><td>10649800</td><td> 843.3022</td></tr>\n",
              "\t<tr><th scope=row>14614</th><td>19/11/2020</td><td>5515</td><td>182</td><td>Czechia</td><td>10649800</td><td> 906.7588</td></tr>\n",
              "\t<tr><th scope=row>14615</th><td>18/11/2020</td><td>4246</td><td>142</td><td>Czechia</td><td>10649800</td><td>1002.6855</td></tr>\n",
              "\t<tr><th scope=row>14616</th><td>17/11/2020</td><td>5407</td><td>208</td><td>Czechia</td><td>10649800</td><td>1076.3301</td></tr>\n",
              "\t<tr><th scope=row>14617</th><td>16/11/2020</td><td>1887</td><td>150</td><td>Czechia</td><td>10649800</td><td>1112.4340</td></tr>\n",
              "\t<tr><th scope=row>14618</th><td>15/11/2020</td><td>4199</td><td>132</td><td>Czechia</td><td>10649800</td><td>1156.1438</td></tr>\n",
              "\t<tr><th scope=row>14619</th><td>14/11/2020</td><td>7355</td><td>171</td><td>Czechia</td><td>10649800</td><td>1224.0324</td></tr>\n",
              "\t<tr><th scope=row>14620</th><td>13/11/2020</td><td>7870</td><td>185</td><td>Czechia</td><td>10649800</td><td>1282.7189</td></tr>\n",
              "\t<tr><th scope=row>14621</th><td>12/11/2020</td><td>8925</td><td>247</td><td>Czechia</td><td>10649800</td><td>1331.4053</td></tr>\n",
              "\t<tr><th scope=row>14622</th><td>11/11/2020</td><td>9005</td><td>249</td><td>Czechia</td><td>10649800</td><td>1369.4811</td></tr>\n",
              "\t<tr><th scope=row>14623</th><td>10/11/2020</td><td>6047</td><td>216</td><td>Czechia</td><td>10649800</td><td>1431.9987</td></tr>\n",
              "\t<tr><th scope=row>14624</th><td>9/11/2020 </td><td>3608</td><td>177</td><td>Czechia</td><td>10649800</td><td>1471.6802</td></tr>\n",
              "\t<tr><th scope=row>14625</th><td>8/11/2020 </td><td>7723</td><td>155</td><td>Czechia</td><td>10649800</td><td>1506.3475</td></tr>\n",
              "\t<tr><th scope=row>⋮</th><td>⋮</td><td>⋮</td><td>⋮</td><td>⋮</td><td>⋮</td><td>⋮</td></tr>\n",
              "\t<tr><th scope=row>52985</th><td>29/01/2020</td><td>0</td><td>0</td><td>Sweden</td><td>10230185</td><td> 0</td></tr>\n",
              "\t<tr><th scope=row>52986</th><td>28/01/2020</td><td>0</td><td>0</td><td>Sweden</td><td>10230185</td><td> 0</td></tr>\n",
              "\t<tr><th scope=row>52987</th><td>27/01/2020</td><td>0</td><td>0</td><td>Sweden</td><td>10230185</td><td> 0</td></tr>\n",
              "\t<tr><th scope=row>52988</th><td>26/01/2020</td><td>0</td><td>0</td><td>Sweden</td><td>10230185</td><td> 0</td></tr>\n",
              "\t<tr><th scope=row>52989</th><td>25/01/2020</td><td>0</td><td>0</td><td>Sweden</td><td>10230185</td><td> 0</td></tr>\n",
              "\t<tr><th scope=row>52990</th><td>24/01/2020</td><td>0</td><td>0</td><td>Sweden</td><td>10230185</td><td> 0</td></tr>\n",
              "\t<tr><th scope=row>52991</th><td>23/01/2020</td><td>0</td><td>0</td><td>Sweden</td><td>10230185</td><td> 0</td></tr>\n",
              "\t<tr><th scope=row>52992</th><td>22/01/2020</td><td>0</td><td>0</td><td>Sweden</td><td>10230185</td><td> 0</td></tr>\n",
              "\t<tr><th scope=row>52993</th><td>21/01/2020</td><td>0</td><td>0</td><td>Sweden</td><td>10230185</td><td> 0</td></tr>\n",
              "\t<tr><th scope=row>52994</th><td>20/01/2020</td><td>0</td><td>0</td><td>Sweden</td><td>10230185</td><td> 0</td></tr>\n",
              "\t<tr><th scope=row>52995</th><td>19/01/2020</td><td>0</td><td>0</td><td>Sweden</td><td>10230185</td><td> 0</td></tr>\n",
              "\t<tr><th scope=row>52996</th><td>18/01/2020</td><td>0</td><td>0</td><td>Sweden</td><td>10230185</td><td> 0</td></tr>\n",
              "\t<tr><th scope=row>52997</th><td>17/01/2020</td><td>0</td><td>0</td><td>Sweden</td><td>10230185</td><td> 0</td></tr>\n",
              "\t<tr><th scope=row>52998</th><td>16/01/2020</td><td>0</td><td>0</td><td>Sweden</td><td>10230185</td><td> 0</td></tr>\n",
              "\t<tr><th scope=row>52999</th><td>15/01/2020</td><td>0</td><td>0</td><td>Sweden</td><td>10230185</td><td> 0</td></tr>\n",
              "\t<tr><th scope=row>53000</th><td>14/01/2020</td><td>0</td><td>0</td><td>Sweden</td><td>10230185</td><td> 0</td></tr>\n",
              "\t<tr><th scope=row>53001</th><td>13/01/2020</td><td>0</td><td>0</td><td>Sweden</td><td>10230185</td><td> 0</td></tr>\n",
              "\t<tr><th scope=row>53002</th><td>12/1/2020 </td><td>0</td><td>0</td><td>Sweden</td><td>10230185</td><td>NA</td></tr>\n",
              "\t<tr><th scope=row>53003</th><td>11/1/2020 </td><td>0</td><td>0</td><td>Sweden</td><td>10230185</td><td>NA</td></tr>\n",
              "\t<tr><th scope=row>53004</th><td>10/1/2020 </td><td>0</td><td>0</td><td>Sweden</td><td>10230185</td><td>NA</td></tr>\n",
              "\t<tr><th scope=row>53005</th><td>9/1/2020  </td><td>0</td><td>0</td><td>Sweden</td><td>10230185</td><td>NA</td></tr>\n",
              "\t<tr><th scope=row>53006</th><td>8/1/2020  </td><td>0</td><td>0</td><td>Sweden</td><td>10230185</td><td>NA</td></tr>\n",
              "\t<tr><th scope=row>53007</th><td>7/1/2020  </td><td>0</td><td>0</td><td>Sweden</td><td>10230185</td><td>NA</td></tr>\n",
              "\t<tr><th scope=row>53008</th><td>6/1/2020  </td><td>0</td><td>0</td><td>Sweden</td><td>10230185</td><td>NA</td></tr>\n",
              "\t<tr><th scope=row>53009</th><td>5/1/2020  </td><td>0</td><td>0</td><td>Sweden</td><td>10230185</td><td>NA</td></tr>\n",
              "\t<tr><th scope=row>53010</th><td>4/1/2020  </td><td>0</td><td>0</td><td>Sweden</td><td>10230185</td><td>NA</td></tr>\n",
              "\t<tr><th scope=row>53011</th><td>3/1/2020  </td><td>0</td><td>0</td><td>Sweden</td><td>10230185</td><td>NA</td></tr>\n",
              "\t<tr><th scope=row>53012</th><td>2/1/2020  </td><td>0</td><td>0</td><td>Sweden</td><td>10230185</td><td>NA</td></tr>\n",
              "\t<tr><th scope=row>53013</th><td>1/1/2020  </td><td>0</td><td>0</td><td>Sweden</td><td>10230185</td><td>NA</td></tr>\n",
              "\t<tr><th scope=row>53014</th><td>31/12/2019</td><td>0</td><td>0</td><td>Sweden</td><td>10230185</td><td>NA</td></tr>\n",
              "</tbody>\n",
              "</table>\n"
            ]
          },
          "metadata": {
            "tags": []
          }
        }
      ]
    },
    {
      "cell_type": "code",
      "metadata": {
        "colab": {
          "base_uri": "https://localhost:8080/",
          "height": 1000
        },
        "id": "OuO-KseBDaDr",
        "outputId": "0b39088e-c683-4b46-9ab0-0c5110ea7844"
      },
      "source": [
        "# check for missing values\n",
        "is.na(newdata)"
      ],
      "execution_count": 64,
      "outputs": [
        {
          "output_type": "display_data",
          "data": {
            "text/plain": [
              "      dateRep cases deaths country popData2019 cumulative_14d_cases\n",
              "14596 FALSE   FALSE FALSE  FALSE   FALSE       FALSE               \n",
              "14597 FALSE   FALSE FALSE  FALSE   FALSE       FALSE               \n",
              "14598 FALSE   FALSE FALSE  FALSE   FALSE       FALSE               \n",
              "14599 FALSE   FALSE FALSE  FALSE   FALSE       FALSE               \n",
              "14600 FALSE   FALSE FALSE  FALSE   FALSE       FALSE               \n",
              "14601 FALSE   FALSE FALSE  FALSE   FALSE       FALSE               \n",
              "14602 FALSE   FALSE FALSE  FALSE   FALSE       FALSE               \n",
              "14603 FALSE   FALSE FALSE  FALSE   FALSE       FALSE               \n",
              "14604 FALSE   FALSE FALSE  FALSE   FALSE       FALSE               \n",
              "14605 FALSE   FALSE FALSE  FALSE   FALSE       FALSE               \n",
              "14606 FALSE   FALSE FALSE  FALSE   FALSE       FALSE               \n",
              "14607 FALSE   FALSE FALSE  FALSE   FALSE       FALSE               \n",
              "14608 FALSE   FALSE FALSE  FALSE   FALSE       FALSE               \n",
              "14609 FALSE   FALSE FALSE  FALSE   FALSE       FALSE               \n",
              "14610 FALSE   FALSE FALSE  FALSE   FALSE       FALSE               \n",
              "14611 FALSE   FALSE FALSE  FALSE   FALSE       FALSE               \n",
              "14612 FALSE   FALSE FALSE  FALSE   FALSE       FALSE               \n",
              "14613 FALSE   FALSE FALSE  FALSE   FALSE       FALSE               \n",
              "14614 FALSE   FALSE FALSE  FALSE   FALSE       FALSE               \n",
              "14615 FALSE   FALSE FALSE  FALSE   FALSE       FALSE               \n",
              "14616 FALSE   FALSE FALSE  FALSE   FALSE       FALSE               \n",
              "14617 FALSE   FALSE FALSE  FALSE   FALSE       FALSE               \n",
              "14618 FALSE   FALSE FALSE  FALSE   FALSE       FALSE               \n",
              "14619 FALSE   FALSE FALSE  FALSE   FALSE       FALSE               \n",
              "14620 FALSE   FALSE FALSE  FALSE   FALSE       FALSE               \n",
              "14621 FALSE   FALSE FALSE  FALSE   FALSE       FALSE               \n",
              "14622 FALSE   FALSE FALSE  FALSE   FALSE       FALSE               \n",
              "14623 FALSE   FALSE FALSE  FALSE   FALSE       FALSE               \n",
              "14624 FALSE   FALSE FALSE  FALSE   FALSE       FALSE               \n",
              "14625 FALSE   FALSE FALSE  FALSE   FALSE       FALSE               \n",
              "⋮     ⋮       ⋮     ⋮      ⋮       ⋮           ⋮                   \n",
              "52985 FALSE   FALSE FALSE  FALSE   FALSE       FALSE               \n",
              "52986 FALSE   FALSE FALSE  FALSE   FALSE       FALSE               \n",
              "52987 FALSE   FALSE FALSE  FALSE   FALSE       FALSE               \n",
              "52988 FALSE   FALSE FALSE  FALSE   FALSE       FALSE               \n",
              "52989 FALSE   FALSE FALSE  FALSE   FALSE       FALSE               \n",
              "52990 FALSE   FALSE FALSE  FALSE   FALSE       FALSE               \n",
              "52991 FALSE   FALSE FALSE  FALSE   FALSE       FALSE               \n",
              "52992 FALSE   FALSE FALSE  FALSE   FALSE       FALSE               \n",
              "52993 FALSE   FALSE FALSE  FALSE   FALSE       FALSE               \n",
              "52994 FALSE   FALSE FALSE  FALSE   FALSE       FALSE               \n",
              "52995 FALSE   FALSE FALSE  FALSE   FALSE       FALSE               \n",
              "52996 FALSE   FALSE FALSE  FALSE   FALSE       FALSE               \n",
              "52997 FALSE   FALSE FALSE  FALSE   FALSE       FALSE               \n",
              "52998 FALSE   FALSE FALSE  FALSE   FALSE       FALSE               \n",
              "52999 FALSE   FALSE FALSE  FALSE   FALSE       FALSE               \n",
              "53000 FALSE   FALSE FALSE  FALSE   FALSE       FALSE               \n",
              "53001 FALSE   FALSE FALSE  FALSE   FALSE       FALSE               \n",
              "53002 FALSE   FALSE FALSE  FALSE   FALSE        TRUE               \n",
              "53003 FALSE   FALSE FALSE  FALSE   FALSE        TRUE               \n",
              "53004 FALSE   FALSE FALSE  FALSE   FALSE        TRUE               \n",
              "53005 FALSE   FALSE FALSE  FALSE   FALSE        TRUE               \n",
              "53006 FALSE   FALSE FALSE  FALSE   FALSE        TRUE               \n",
              "53007 FALSE   FALSE FALSE  FALSE   FALSE        TRUE               \n",
              "53008 FALSE   FALSE FALSE  FALSE   FALSE        TRUE               \n",
              "53009 FALSE   FALSE FALSE  FALSE   FALSE        TRUE               \n",
              "53010 FALSE   FALSE FALSE  FALSE   FALSE        TRUE               \n",
              "53011 FALSE   FALSE FALSE  FALSE   FALSE        TRUE               \n",
              "53012 FALSE   FALSE FALSE  FALSE   FALSE        TRUE               \n",
              "53013 FALSE   FALSE FALSE  FALSE   FALSE        TRUE               \n",
              "53014 FALSE   FALSE FALSE  FALSE   FALSE        TRUE               "
            ],
            "text/latex": "A matrix: 1715 × 6 of type lgl\n\\begin{tabular}{r|llllll}\n  & dateRep & cases & deaths & country & popData2019 & cumulative\\_14d\\_cases\\\\\n\\hline\n\t14596 & FALSE & FALSE & FALSE & FALSE & FALSE & FALSE\\\\\n\t14597 & FALSE & FALSE & FALSE & FALSE & FALSE & FALSE\\\\\n\t14598 & FALSE & FALSE & FALSE & FALSE & FALSE & FALSE\\\\\n\t14599 & FALSE & FALSE & FALSE & FALSE & FALSE & FALSE\\\\\n\t14600 & FALSE & FALSE & FALSE & FALSE & FALSE & FALSE\\\\\n\t14601 & FALSE & FALSE & FALSE & FALSE & FALSE & FALSE\\\\\n\t14602 & FALSE & FALSE & FALSE & FALSE & FALSE & FALSE\\\\\n\t14603 & FALSE & FALSE & FALSE & FALSE & FALSE & FALSE\\\\\n\t14604 & FALSE & FALSE & FALSE & FALSE & FALSE & FALSE\\\\\n\t14605 & FALSE & FALSE & FALSE & FALSE & FALSE & FALSE\\\\\n\t14606 & FALSE & FALSE & FALSE & FALSE & FALSE & FALSE\\\\\n\t14607 & FALSE & FALSE & FALSE & FALSE & FALSE & FALSE\\\\\n\t14608 & FALSE & FALSE & FALSE & FALSE & FALSE & FALSE\\\\\n\t14609 & FALSE & FALSE & FALSE & FALSE & FALSE & FALSE\\\\\n\t14610 & FALSE & FALSE & FALSE & FALSE & FALSE & FALSE\\\\\n\t14611 & FALSE & FALSE & FALSE & FALSE & FALSE & FALSE\\\\\n\t14612 & FALSE & FALSE & FALSE & FALSE & FALSE & FALSE\\\\\n\t14613 & FALSE & FALSE & FALSE & FALSE & FALSE & FALSE\\\\\n\t14614 & FALSE & FALSE & FALSE & FALSE & FALSE & FALSE\\\\\n\t14615 & FALSE & FALSE & FALSE & FALSE & FALSE & FALSE\\\\\n\t14616 & FALSE & FALSE & FALSE & FALSE & FALSE & FALSE\\\\\n\t14617 & FALSE & FALSE & FALSE & FALSE & FALSE & FALSE\\\\\n\t14618 & FALSE & FALSE & FALSE & FALSE & FALSE & FALSE\\\\\n\t14619 & FALSE & FALSE & FALSE & FALSE & FALSE & FALSE\\\\\n\t14620 & FALSE & FALSE & FALSE & FALSE & FALSE & FALSE\\\\\n\t14621 & FALSE & FALSE & FALSE & FALSE & FALSE & FALSE\\\\\n\t14622 & FALSE & FALSE & FALSE & FALSE & FALSE & FALSE\\\\\n\t14623 & FALSE & FALSE & FALSE & FALSE & FALSE & FALSE\\\\\n\t14624 & FALSE & FALSE & FALSE & FALSE & FALSE & FALSE\\\\\n\t14625 & FALSE & FALSE & FALSE & FALSE & FALSE & FALSE\\\\\n\t⋮ & ⋮ & ⋮ & ⋮ & ⋮ & ⋮ & ⋮\\\\\n\t52985 & FALSE & FALSE & FALSE & FALSE & FALSE & FALSE\\\\\n\t52986 & FALSE & FALSE & FALSE & FALSE & FALSE & FALSE\\\\\n\t52987 & FALSE & FALSE & FALSE & FALSE & FALSE & FALSE\\\\\n\t52988 & FALSE & FALSE & FALSE & FALSE & FALSE & FALSE\\\\\n\t52989 & FALSE & FALSE & FALSE & FALSE & FALSE & FALSE\\\\\n\t52990 & FALSE & FALSE & FALSE & FALSE & FALSE & FALSE\\\\\n\t52991 & FALSE & FALSE & FALSE & FALSE & FALSE & FALSE\\\\\n\t52992 & FALSE & FALSE & FALSE & FALSE & FALSE & FALSE\\\\\n\t52993 & FALSE & FALSE & FALSE & FALSE & FALSE & FALSE\\\\\n\t52994 & FALSE & FALSE & FALSE & FALSE & FALSE & FALSE\\\\\n\t52995 & FALSE & FALSE & FALSE & FALSE & FALSE & FALSE\\\\\n\t52996 & FALSE & FALSE & FALSE & FALSE & FALSE & FALSE\\\\\n\t52997 & FALSE & FALSE & FALSE & FALSE & FALSE & FALSE\\\\\n\t52998 & FALSE & FALSE & FALSE & FALSE & FALSE & FALSE\\\\\n\t52999 & FALSE & FALSE & FALSE & FALSE & FALSE & FALSE\\\\\n\t53000 & FALSE & FALSE & FALSE & FALSE & FALSE & FALSE\\\\\n\t53001 & FALSE & FALSE & FALSE & FALSE & FALSE & FALSE\\\\\n\t53002 & FALSE & FALSE & FALSE & FALSE & FALSE &  TRUE\\\\\n\t53003 & FALSE & FALSE & FALSE & FALSE & FALSE &  TRUE\\\\\n\t53004 & FALSE & FALSE & FALSE & FALSE & FALSE &  TRUE\\\\\n\t53005 & FALSE & FALSE & FALSE & FALSE & FALSE &  TRUE\\\\\n\t53006 & FALSE & FALSE & FALSE & FALSE & FALSE &  TRUE\\\\\n\t53007 & FALSE & FALSE & FALSE & FALSE & FALSE &  TRUE\\\\\n\t53008 & FALSE & FALSE & FALSE & FALSE & FALSE &  TRUE\\\\\n\t53009 & FALSE & FALSE & FALSE & FALSE & FALSE &  TRUE\\\\\n\t53010 & FALSE & FALSE & FALSE & FALSE & FALSE &  TRUE\\\\\n\t53011 & FALSE & FALSE & FALSE & FALSE & FALSE &  TRUE\\\\\n\t53012 & FALSE & FALSE & FALSE & FALSE & FALSE &  TRUE\\\\\n\t53013 & FALSE & FALSE & FALSE & FALSE & FALSE &  TRUE\\\\\n\t53014 & FALSE & FALSE & FALSE & FALSE & FALSE &  TRUE\\\\\n\\end{tabular}\n",
            "text/markdown": "\nA matrix: 1715 × 6 of type lgl\n\n| <!--/--> | dateRep | cases | deaths | country | popData2019 | cumulative_14d_cases |\n|---|---|---|---|---|---|---|\n| 14596 | FALSE | FALSE | FALSE | FALSE | FALSE | FALSE |\n| 14597 | FALSE | FALSE | FALSE | FALSE | FALSE | FALSE |\n| 14598 | FALSE | FALSE | FALSE | FALSE | FALSE | FALSE |\n| 14599 | FALSE | FALSE | FALSE | FALSE | FALSE | FALSE |\n| 14600 | FALSE | FALSE | FALSE | FALSE | FALSE | FALSE |\n| 14601 | FALSE | FALSE | FALSE | FALSE | FALSE | FALSE |\n| 14602 | FALSE | FALSE | FALSE | FALSE | FALSE | FALSE |\n| 14603 | FALSE | FALSE | FALSE | FALSE | FALSE | FALSE |\n| 14604 | FALSE | FALSE | FALSE | FALSE | FALSE | FALSE |\n| 14605 | FALSE | FALSE | FALSE | FALSE | FALSE | FALSE |\n| 14606 | FALSE | FALSE | FALSE | FALSE | FALSE | FALSE |\n| 14607 | FALSE | FALSE | FALSE | FALSE | FALSE | FALSE |\n| 14608 | FALSE | FALSE | FALSE | FALSE | FALSE | FALSE |\n| 14609 | FALSE | FALSE | FALSE | FALSE | FALSE | FALSE |\n| 14610 | FALSE | FALSE | FALSE | FALSE | FALSE | FALSE |\n| 14611 | FALSE | FALSE | FALSE | FALSE | FALSE | FALSE |\n| 14612 | FALSE | FALSE | FALSE | FALSE | FALSE | FALSE |\n| 14613 | FALSE | FALSE | FALSE | FALSE | FALSE | FALSE |\n| 14614 | FALSE | FALSE | FALSE | FALSE | FALSE | FALSE |\n| 14615 | FALSE | FALSE | FALSE | FALSE | FALSE | FALSE |\n| 14616 | FALSE | FALSE | FALSE | FALSE | FALSE | FALSE |\n| 14617 | FALSE | FALSE | FALSE | FALSE | FALSE | FALSE |\n| 14618 | FALSE | FALSE | FALSE | FALSE | FALSE | FALSE |\n| 14619 | FALSE | FALSE | FALSE | FALSE | FALSE | FALSE |\n| 14620 | FALSE | FALSE | FALSE | FALSE | FALSE | FALSE |\n| 14621 | FALSE | FALSE | FALSE | FALSE | FALSE | FALSE |\n| 14622 | FALSE | FALSE | FALSE | FALSE | FALSE | FALSE |\n| 14623 | FALSE | FALSE | FALSE | FALSE | FALSE | FALSE |\n| 14624 | FALSE | FALSE | FALSE | FALSE | FALSE | FALSE |\n| 14625 | FALSE | FALSE | FALSE | FALSE | FALSE | FALSE |\n| ⋮ | ⋮ | ⋮ | ⋮ | ⋮ | ⋮ | ⋮ |\n| 52985 | FALSE | FALSE | FALSE | FALSE | FALSE | FALSE |\n| 52986 | FALSE | FALSE | FALSE | FALSE | FALSE | FALSE |\n| 52987 | FALSE | FALSE | FALSE | FALSE | FALSE | FALSE |\n| 52988 | FALSE | FALSE | FALSE | FALSE | FALSE | FALSE |\n| 52989 | FALSE | FALSE | FALSE | FALSE | FALSE | FALSE |\n| 52990 | FALSE | FALSE | FALSE | FALSE | FALSE | FALSE |\n| 52991 | FALSE | FALSE | FALSE | FALSE | FALSE | FALSE |\n| 52992 | FALSE | FALSE | FALSE | FALSE | FALSE | FALSE |\n| 52993 | FALSE | FALSE | FALSE | FALSE | FALSE | FALSE |\n| 52994 | FALSE | FALSE | FALSE | FALSE | FALSE | FALSE |\n| 52995 | FALSE | FALSE | FALSE | FALSE | FALSE | FALSE |\n| 52996 | FALSE | FALSE | FALSE | FALSE | FALSE | FALSE |\n| 52997 | FALSE | FALSE | FALSE | FALSE | FALSE | FALSE |\n| 52998 | FALSE | FALSE | FALSE | FALSE | FALSE | FALSE |\n| 52999 | FALSE | FALSE | FALSE | FALSE | FALSE | FALSE |\n| 53000 | FALSE | FALSE | FALSE | FALSE | FALSE | FALSE |\n| 53001 | FALSE | FALSE | FALSE | FALSE | FALSE | FALSE |\n| 53002 | FALSE | FALSE | FALSE | FALSE | FALSE |  TRUE |\n| 53003 | FALSE | FALSE | FALSE | FALSE | FALSE |  TRUE |\n| 53004 | FALSE | FALSE | FALSE | FALSE | FALSE |  TRUE |\n| 53005 | FALSE | FALSE | FALSE | FALSE | FALSE |  TRUE |\n| 53006 | FALSE | FALSE | FALSE | FALSE | FALSE |  TRUE |\n| 53007 | FALSE | FALSE | FALSE | FALSE | FALSE |  TRUE |\n| 53008 | FALSE | FALSE | FALSE | FALSE | FALSE |  TRUE |\n| 53009 | FALSE | FALSE | FALSE | FALSE | FALSE |  TRUE |\n| 53010 | FALSE | FALSE | FALSE | FALSE | FALSE |  TRUE |\n| 53011 | FALSE | FALSE | FALSE | FALSE | FALSE |  TRUE |\n| 53012 | FALSE | FALSE | FALSE | FALSE | FALSE |  TRUE |\n| 53013 | FALSE | FALSE | FALSE | FALSE | FALSE |  TRUE |\n| 53014 | FALSE | FALSE | FALSE | FALSE | FALSE |  TRUE |\n\n",
            "text/html": [
              "<table>\n",
              "<caption>A matrix: 1715 × 6 of type lgl</caption>\n",
              "<thead>\n",
              "\t<tr><th></th><th scope=col>dateRep</th><th scope=col>cases</th><th scope=col>deaths</th><th scope=col>country</th><th scope=col>popData2019</th><th scope=col>cumulative_14d_cases</th></tr>\n",
              "</thead>\n",
              "<tbody>\n",
              "\t<tr><th scope=row>14596</th><td>FALSE</td><td>FALSE</td><td>FALSE</td><td>FALSE</td><td>FALSE</td><td>FALSE</td></tr>\n",
              "\t<tr><th scope=row>14597</th><td>FALSE</td><td>FALSE</td><td>FALSE</td><td>FALSE</td><td>FALSE</td><td>FALSE</td></tr>\n",
              "\t<tr><th scope=row>14598</th><td>FALSE</td><td>FALSE</td><td>FALSE</td><td>FALSE</td><td>FALSE</td><td>FALSE</td></tr>\n",
              "\t<tr><th scope=row>14599</th><td>FALSE</td><td>FALSE</td><td>FALSE</td><td>FALSE</td><td>FALSE</td><td>FALSE</td></tr>\n",
              "\t<tr><th scope=row>14600</th><td>FALSE</td><td>FALSE</td><td>FALSE</td><td>FALSE</td><td>FALSE</td><td>FALSE</td></tr>\n",
              "\t<tr><th scope=row>14601</th><td>FALSE</td><td>FALSE</td><td>FALSE</td><td>FALSE</td><td>FALSE</td><td>FALSE</td></tr>\n",
              "\t<tr><th scope=row>14602</th><td>FALSE</td><td>FALSE</td><td>FALSE</td><td>FALSE</td><td>FALSE</td><td>FALSE</td></tr>\n",
              "\t<tr><th scope=row>14603</th><td>FALSE</td><td>FALSE</td><td>FALSE</td><td>FALSE</td><td>FALSE</td><td>FALSE</td></tr>\n",
              "\t<tr><th scope=row>14604</th><td>FALSE</td><td>FALSE</td><td>FALSE</td><td>FALSE</td><td>FALSE</td><td>FALSE</td></tr>\n",
              "\t<tr><th scope=row>14605</th><td>FALSE</td><td>FALSE</td><td>FALSE</td><td>FALSE</td><td>FALSE</td><td>FALSE</td></tr>\n",
              "\t<tr><th scope=row>14606</th><td>FALSE</td><td>FALSE</td><td>FALSE</td><td>FALSE</td><td>FALSE</td><td>FALSE</td></tr>\n",
              "\t<tr><th scope=row>14607</th><td>FALSE</td><td>FALSE</td><td>FALSE</td><td>FALSE</td><td>FALSE</td><td>FALSE</td></tr>\n",
              "\t<tr><th scope=row>14608</th><td>FALSE</td><td>FALSE</td><td>FALSE</td><td>FALSE</td><td>FALSE</td><td>FALSE</td></tr>\n",
              "\t<tr><th scope=row>14609</th><td>FALSE</td><td>FALSE</td><td>FALSE</td><td>FALSE</td><td>FALSE</td><td>FALSE</td></tr>\n",
              "\t<tr><th scope=row>14610</th><td>FALSE</td><td>FALSE</td><td>FALSE</td><td>FALSE</td><td>FALSE</td><td>FALSE</td></tr>\n",
              "\t<tr><th scope=row>14611</th><td>FALSE</td><td>FALSE</td><td>FALSE</td><td>FALSE</td><td>FALSE</td><td>FALSE</td></tr>\n",
              "\t<tr><th scope=row>14612</th><td>FALSE</td><td>FALSE</td><td>FALSE</td><td>FALSE</td><td>FALSE</td><td>FALSE</td></tr>\n",
              "\t<tr><th scope=row>14613</th><td>FALSE</td><td>FALSE</td><td>FALSE</td><td>FALSE</td><td>FALSE</td><td>FALSE</td></tr>\n",
              "\t<tr><th scope=row>14614</th><td>FALSE</td><td>FALSE</td><td>FALSE</td><td>FALSE</td><td>FALSE</td><td>FALSE</td></tr>\n",
              "\t<tr><th scope=row>14615</th><td>FALSE</td><td>FALSE</td><td>FALSE</td><td>FALSE</td><td>FALSE</td><td>FALSE</td></tr>\n",
              "\t<tr><th scope=row>14616</th><td>FALSE</td><td>FALSE</td><td>FALSE</td><td>FALSE</td><td>FALSE</td><td>FALSE</td></tr>\n",
              "\t<tr><th scope=row>14617</th><td>FALSE</td><td>FALSE</td><td>FALSE</td><td>FALSE</td><td>FALSE</td><td>FALSE</td></tr>\n",
              "\t<tr><th scope=row>14618</th><td>FALSE</td><td>FALSE</td><td>FALSE</td><td>FALSE</td><td>FALSE</td><td>FALSE</td></tr>\n",
              "\t<tr><th scope=row>14619</th><td>FALSE</td><td>FALSE</td><td>FALSE</td><td>FALSE</td><td>FALSE</td><td>FALSE</td></tr>\n",
              "\t<tr><th scope=row>14620</th><td>FALSE</td><td>FALSE</td><td>FALSE</td><td>FALSE</td><td>FALSE</td><td>FALSE</td></tr>\n",
              "\t<tr><th scope=row>14621</th><td>FALSE</td><td>FALSE</td><td>FALSE</td><td>FALSE</td><td>FALSE</td><td>FALSE</td></tr>\n",
              "\t<tr><th scope=row>14622</th><td>FALSE</td><td>FALSE</td><td>FALSE</td><td>FALSE</td><td>FALSE</td><td>FALSE</td></tr>\n",
              "\t<tr><th scope=row>14623</th><td>FALSE</td><td>FALSE</td><td>FALSE</td><td>FALSE</td><td>FALSE</td><td>FALSE</td></tr>\n",
              "\t<tr><th scope=row>14624</th><td>FALSE</td><td>FALSE</td><td>FALSE</td><td>FALSE</td><td>FALSE</td><td>FALSE</td></tr>\n",
              "\t<tr><th scope=row>14625</th><td>FALSE</td><td>FALSE</td><td>FALSE</td><td>FALSE</td><td>FALSE</td><td>FALSE</td></tr>\n",
              "\t<tr><th scope=row>⋮</th><td>⋮</td><td>⋮</td><td>⋮</td><td>⋮</td><td>⋮</td><td>⋮</td></tr>\n",
              "\t<tr><th scope=row>52985</th><td>FALSE</td><td>FALSE</td><td>FALSE</td><td>FALSE</td><td>FALSE</td><td>FALSE</td></tr>\n",
              "\t<tr><th scope=row>52986</th><td>FALSE</td><td>FALSE</td><td>FALSE</td><td>FALSE</td><td>FALSE</td><td>FALSE</td></tr>\n",
              "\t<tr><th scope=row>52987</th><td>FALSE</td><td>FALSE</td><td>FALSE</td><td>FALSE</td><td>FALSE</td><td>FALSE</td></tr>\n",
              "\t<tr><th scope=row>52988</th><td>FALSE</td><td>FALSE</td><td>FALSE</td><td>FALSE</td><td>FALSE</td><td>FALSE</td></tr>\n",
              "\t<tr><th scope=row>52989</th><td>FALSE</td><td>FALSE</td><td>FALSE</td><td>FALSE</td><td>FALSE</td><td>FALSE</td></tr>\n",
              "\t<tr><th scope=row>52990</th><td>FALSE</td><td>FALSE</td><td>FALSE</td><td>FALSE</td><td>FALSE</td><td>FALSE</td></tr>\n",
              "\t<tr><th scope=row>52991</th><td>FALSE</td><td>FALSE</td><td>FALSE</td><td>FALSE</td><td>FALSE</td><td>FALSE</td></tr>\n",
              "\t<tr><th scope=row>52992</th><td>FALSE</td><td>FALSE</td><td>FALSE</td><td>FALSE</td><td>FALSE</td><td>FALSE</td></tr>\n",
              "\t<tr><th scope=row>52993</th><td>FALSE</td><td>FALSE</td><td>FALSE</td><td>FALSE</td><td>FALSE</td><td>FALSE</td></tr>\n",
              "\t<tr><th scope=row>52994</th><td>FALSE</td><td>FALSE</td><td>FALSE</td><td>FALSE</td><td>FALSE</td><td>FALSE</td></tr>\n",
              "\t<tr><th scope=row>52995</th><td>FALSE</td><td>FALSE</td><td>FALSE</td><td>FALSE</td><td>FALSE</td><td>FALSE</td></tr>\n",
              "\t<tr><th scope=row>52996</th><td>FALSE</td><td>FALSE</td><td>FALSE</td><td>FALSE</td><td>FALSE</td><td>FALSE</td></tr>\n",
              "\t<tr><th scope=row>52997</th><td>FALSE</td><td>FALSE</td><td>FALSE</td><td>FALSE</td><td>FALSE</td><td>FALSE</td></tr>\n",
              "\t<tr><th scope=row>52998</th><td>FALSE</td><td>FALSE</td><td>FALSE</td><td>FALSE</td><td>FALSE</td><td>FALSE</td></tr>\n",
              "\t<tr><th scope=row>52999</th><td>FALSE</td><td>FALSE</td><td>FALSE</td><td>FALSE</td><td>FALSE</td><td>FALSE</td></tr>\n",
              "\t<tr><th scope=row>53000</th><td>FALSE</td><td>FALSE</td><td>FALSE</td><td>FALSE</td><td>FALSE</td><td>FALSE</td></tr>\n",
              "\t<tr><th scope=row>53001</th><td>FALSE</td><td>FALSE</td><td>FALSE</td><td>FALSE</td><td>FALSE</td><td>FALSE</td></tr>\n",
              "\t<tr><th scope=row>53002</th><td>FALSE</td><td>FALSE</td><td>FALSE</td><td>FALSE</td><td>FALSE</td><td> TRUE</td></tr>\n",
              "\t<tr><th scope=row>53003</th><td>FALSE</td><td>FALSE</td><td>FALSE</td><td>FALSE</td><td>FALSE</td><td> TRUE</td></tr>\n",
              "\t<tr><th scope=row>53004</th><td>FALSE</td><td>FALSE</td><td>FALSE</td><td>FALSE</td><td>FALSE</td><td> TRUE</td></tr>\n",
              "\t<tr><th scope=row>53005</th><td>FALSE</td><td>FALSE</td><td>FALSE</td><td>FALSE</td><td>FALSE</td><td> TRUE</td></tr>\n",
              "\t<tr><th scope=row>53006</th><td>FALSE</td><td>FALSE</td><td>FALSE</td><td>FALSE</td><td>FALSE</td><td> TRUE</td></tr>\n",
              "\t<tr><th scope=row>53007</th><td>FALSE</td><td>FALSE</td><td>FALSE</td><td>FALSE</td><td>FALSE</td><td> TRUE</td></tr>\n",
              "\t<tr><th scope=row>53008</th><td>FALSE</td><td>FALSE</td><td>FALSE</td><td>FALSE</td><td>FALSE</td><td> TRUE</td></tr>\n",
              "\t<tr><th scope=row>53009</th><td>FALSE</td><td>FALSE</td><td>FALSE</td><td>FALSE</td><td>FALSE</td><td> TRUE</td></tr>\n",
              "\t<tr><th scope=row>53010</th><td>FALSE</td><td>FALSE</td><td>FALSE</td><td>FALSE</td><td>FALSE</td><td> TRUE</td></tr>\n",
              "\t<tr><th scope=row>53011</th><td>FALSE</td><td>FALSE</td><td>FALSE</td><td>FALSE</td><td>FALSE</td><td> TRUE</td></tr>\n",
              "\t<tr><th scope=row>53012</th><td>FALSE</td><td>FALSE</td><td>FALSE</td><td>FALSE</td><td>FALSE</td><td> TRUE</td></tr>\n",
              "\t<tr><th scope=row>53013</th><td>FALSE</td><td>FALSE</td><td>FALSE</td><td>FALSE</td><td>FALSE</td><td> TRUE</td></tr>\n",
              "\t<tr><th scope=row>53014</th><td>FALSE</td><td>FALSE</td><td>FALSE</td><td>FALSE</td><td>FALSE</td><td> TRUE</td></tr>\n",
              "</tbody>\n",
              "</table>\n"
            ]
          },
          "metadata": {
            "tags": []
          }
        }
      ]
    },
    {
      "cell_type": "code",
      "metadata": {
        "id": "j2MqqkQ7DyAw"
      },
      "source": [
        "# save a new dataset\n",
        "write.csv(newdata, \"updated_dataset.csv\", row.names = FALSE)"
      ],
      "execution_count": 65,
      "outputs": []
    }
  ]
}
